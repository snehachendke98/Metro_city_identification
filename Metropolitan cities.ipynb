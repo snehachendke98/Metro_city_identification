{
 "cells": [
  {
   "cell_type": "code",
   "execution_count": 31,
   "id": "8cc4cf3f",
   "metadata": {},
   "outputs": [
    {
     "data": {
      "text/html": [
       "<div>\n",
       "<style scoped>\n",
       "    .dataframe tbody tr th:only-of-type {\n",
       "        vertical-align: middle;\n",
       "    }\n",
       "\n",
       "    .dataframe tbody tr th {\n",
       "        vertical-align: top;\n",
       "    }\n",
       "\n",
       "    .dataframe thead th {\n",
       "        text-align: right;\n",
       "    }\n",
       "</style>\n",
       "<table border=\"1\" class=\"dataframe\">\n",
       "  <thead>\n",
       "    <tr style=\"text-align: right;\">\n",
       "      <th></th>\n",
       "      <th>City</th>\n",
       "      <th>Sub-cities</th>\n",
       "    </tr>\n",
       "  </thead>\n",
       "  <tbody>\n",
       "    <tr>\n",
       "      <th>0</th>\n",
       "      <td>Pune</td>\n",
       "      <td>Ambegaon Budruk</td>\n",
       "    </tr>\n",
       "    <tr>\n",
       "      <th>1</th>\n",
       "      <td>Pune</td>\n",
       "      <td>Aundh</td>\n",
       "    </tr>\n",
       "    <tr>\n",
       "      <th>2</th>\n",
       "      <td>Pune</td>\n",
       "      <td>Baner</td>\n",
       "    </tr>\n",
       "    <tr>\n",
       "      <th>3</th>\n",
       "      <td>Pune</td>\n",
       "      <td>Bavdhan Khurd</td>\n",
       "    </tr>\n",
       "    <tr>\n",
       "      <th>4</th>\n",
       "      <td>Pune</td>\n",
       "      <td>Bavdhan Budruk</td>\n",
       "    </tr>\n",
       "  </tbody>\n",
       "</table>\n",
       "</div>"
      ],
      "text/plain": [
       "   City       Sub-cities\n",
       "0  Pune  Ambegaon Budruk\n",
       "1  Pune            Aundh\n",
       "2  Pune            Baner\n",
       "3  Pune    Bavdhan Khurd\n",
       "4  Pune   Bavdhan Budruk"
      ]
     },
     "execution_count": 31,
     "metadata": {},
     "output_type": "execute_result"
    }
   ],
   "source": [
    "import pandas as pd\n",
    "city = pd.read_excel(r'C:\\Users\\Admin\\Desktop\\mnh\\city names.xlsx')\n",
    "city.head()"
   ]
  },
  {
   "cell_type": "code",
   "execution_count": 32,
   "id": "86aa768b",
   "metadata": {},
   "outputs": [
    {
     "data": {
      "text/plain": [
       "0      Ambegaon Budruk\n",
       "1                Aundh\n",
       "2                Baner\n",
       "3        Bavdhan Khurd\n",
       "4       Bavdhan Budruk\n",
       "            ...       \n",
       "632             Gondia\n",
       "633          Osmanabad\n",
       "634          Nandurbar\n",
       "635             Wardha\n",
       "636        Ahemadnagar\n",
       "Name: Sub-cities, Length: 637, dtype: object"
      ]
     },
     "execution_count": 32,
     "metadata": {},
     "output_type": "execute_result"
    }
   ],
   "source": [
    "sub_cities=city['Sub-cities']\n",
    "sub_cities"
   ]
  },
  {
   "cell_type": "code",
   "execution_count": 33,
   "id": "eb18b27b",
   "metadata": {},
   "outputs": [],
   "source": [
    "#a = sub_cities.sample(axis=1)\n",
    "#import random\n",
    "#a =random.sample(sub_cities, 10)\n",
    "#a"
   ]
  },
  {
   "cell_type": "code",
   "execution_count": 34,
   "id": "08798538",
   "metadata": {},
   "outputs": [],
   "source": [
    "#! pip install geopy"
   ]
  },
  {
   "cell_type": "code",
   "execution_count": 56,
   "id": "d35a4a73",
   "metadata": {
    "scrolled": false
   },
   "outputs": [
    {
     "name": "stdout",
     "output_type": "stream",
     "text": [
      "Ajmera, Pimpri-Chinchwad, Haveli, Pune, Maharashtra, 411089, India\n",
      "{'suburb': 'Ajmera', 'city': 'Pimpri-Chinchwad', 'county': 'Haveli', 'state_district': 'Pune', 'state': 'Maharashtra', 'ISO3166-2-lvl4': 'IN-MH', 'postcode': '411089', 'country': 'India', 'country_code': 'in'}\n",
      "City :  Pune\n",
      "State :  Maharashtra\n",
      "Country :  India\n",
      "*******************\n",
      "*******************\n"
     ]
    }
   ],
   "source": [
    "from geopy.geocoders import Nominatim\n",
    "from geopy.point import Point\n",
    "\n",
    "geolocator=Nominatim(user_agent=\"my_app\", timeout=10000)\n",
    "location_list=[]\n",
    "city_names=[]\n",
    "#a=['baner','pimple gurav','Wakad','Hinjewadi','Kharadi','Andheri']\n",
    "#for i in a[]:\n",
    "location = geolocator.geocode('Pimpri chinchwad')\n",
    "if location is not None:\n",
    "    GPS_lat = location.latitude\n",
    "    GPS_long = location.longitude\n",
    "    location = geolocator.reverse(Point(GPS_lat, GPS_long)) \n",
    "    print(location)\n",
    "    address = location.raw['address']\n",
    "    print(address)\n",
    "    city = address.get('state_district', '')\n",
    "    city_names.append(city)\n",
    "    state = address.get('state', '')\n",
    "    country = address.get('country', '')\n",
    "    code = address.get('country_code')\n",
    "    print('City : ',city)\n",
    "    print('State : ',state)\n",
    "    print('Country : ',country)\n",
    "    print('*******************')\n",
    "    print('*******************')\n",
    "        #location_list.append(f'{GPS_lat},{GPS_long}')\n",
    "#print(location_list)\n",
    "    \n",
    "    "
   ]
  },
  {
   "cell_type": "code",
   "execution_count": 36,
   "id": "0e640988",
   "metadata": {},
   "outputs": [
    {
     "data": {
      "text/plain": [
       "['Pune',\n",
       " 'Pune',\n",
       " 'Sangli',\n",
       " 'Pune',\n",
       " 'Kanpur Nagar',\n",
       " 'Chandrapur',\n",
       " 'Thrissur',\n",
       " 'Pune',\n",
       " 'Pune',\n",
       " 'Buldhana',\n",
       " 'Solapur']"
      ]
     },
     "execution_count": 36,
     "metadata": {},
     "output_type": "execute_result"
    }
   ],
   "source": [
    "city_names"
   ]
  },
  {
   "cell_type": "code",
   "execution_count": 37,
   "id": "118de9b3",
   "metadata": {},
   "outputs": [
    {
     "name": "stdout",
     "output_type": "stream",
     "text": [
      "Pune Metropolitan city\n",
      "Pune Metropolitan city\n",
      "Sangli Non-metropolitan city\n",
      "Pune Metropolitan city\n",
      "Kanpur Nagar Non-metropolitan city\n",
      "Chandrapur Non-metropolitan city\n",
      "Thrissur Non-metropolitan city\n",
      "Pune Metropolitan city\n",
      "Pune Metropolitan city\n",
      "Buldhana Non-metropolitan city\n",
      "Solapur Non-metropolitan city\n"
     ]
    }
   ],
   "source": [
    "for i in city_names:\n",
    "    if i in['Mumbai','Delhi','Kolkata','Chennai','Bangalore','Hyderabad','Ahmedabad','Pune','Surat']:\n",
    "        print(i,'Metropolitan city')\n",
    "    else:\n",
    "        print(i,'Non-metropolitan city')"
   ]
  },
  {
   "cell_type": "code",
   "execution_count": null,
   "id": "43eaa042",
   "metadata": {},
   "outputs": [],
   "source": []
  }
 ],
 "metadata": {
  "kernelspec": {
   "display_name": "Python 3 (ipykernel)",
   "language": "python",
   "name": "python3"
  },
  "language_info": {
   "codemirror_mode": {
    "name": "ipython",
    "version": 3
   },
   "file_extension": ".py",
   "mimetype": "text/x-python",
   "name": "python",
   "nbconvert_exporter": "python",
   "pygments_lexer": "ipython3",
   "version": "3.9.13"
  }
 },
 "nbformat": 4,
 "nbformat_minor": 5
}
